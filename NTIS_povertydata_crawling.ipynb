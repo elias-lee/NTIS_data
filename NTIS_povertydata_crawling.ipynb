{
  "nbformat": 4,
  "nbformat_minor": 0,
  "metadata": {
    "colab": {
      "name": "stepi_keyword.ipynb",
      "provenance": [],
      "collapsed_sections": []
    },
    "kernelspec": {
      "name": "python3",
      "display_name": "Python 3"
    }
  },
  "cells": [
    {
      "cell_type": "markdown",
      "metadata": {
        "id": "CgRNoQF2Ar0z",
        "colab_type": "text"
      },
      "source": [
        "####NTIS data crawling"
      ]
    },
    {
      "cell_type": "code",
      "metadata": {
        "id": "Gh7DDn_Dv46t",
        "colab_type": "code",
        "colab": {
          "base_uri": "https://localhost:8080/",
          "height": 102
        },
        "outputId": "e895da6e-effa-4cf4-896f-48f8385b17cd"
      },
      "source": [
        "import requests\n",
        "from urllib.request import urlopen\n",
        "from bs4 import BeautifulSoup\n",
        "import urllib\n",
        "import pandas as pd\n",
        "print(\"stage1 processing\")\n",
        "#페이지수 자동 가져오기\n",
        "url = \"https://www.ntis.go.kr/ThSearchProjectList.do?gubun=link&searchWord=%EB%B9%88%EA%B3%A4&searchType=&oldSearchWord=%EB%B9%88%EA%B3%A4&resultSearch=&pageNumber=1&ssoKnfSlct=&ascDesc=ASC&useYn=N&oldQuery=%EB%B9%88%EA%B3%A4&oldAddQuery=&dbt=project&checkYn=&searchOption16=&pageYn=&technologyClassification=ST&directorySearchYear=&directorySearchOption1=&directorySearchOption2=&directorySearchOption3=&downloadTarget=project&startRow=&endRow=&rqstPurpCd=&infoPrctuseDes=&layerChoice=&sort=RANK%2FDESC&pageSize=10&navigation1%5B0%5D=2019&navigation1%5B1%5D=2018&navigation1%5B2%5D=2017&navigation1%5B3%5D=2016&navigation1%5B4%5D=2015\"\n",
        "r=requests.get(url)\n",
        "c=r.content\n",
        "soup = BeautifulSoup(c,'html.parser')\n",
        "paging = soup.find(\"div\",{\"id\":\"pageing\"}).find_all(\"a\")\n",
        "start_page=paging[0].attrs['href']\n",
        "last_page=paging[len(paging)-1].attrs['href']\n",
        "print(\"stage2 processing\")\n",
        "#URL 갯수 가져와서 자동 URL 생성 & 각 url 에서 콘텐츠만 추출\n",
        "front_url = \"https://www.ntis.go.kr/ThSearchProjectList.do?gubun=link&searchWord=%EB%B9%88%EA%B3%A4&searchType=&oldSearchWord=%EB%B9%88%EA%B3%A4&resultSearch=&pageNumber=\"\n",
        "back_url = \"&ssoKnfSlct=&ascDesc=ASC&useYn=N&oldQuery=%EB%B9%88%EA%B3%A4&oldAddQuery=%26SN04%3D2019%7C2015%7C2017%7C2018%7C2016&dbt=project&checkYn=&searchOption16=&pageYn=Y&technologyClassification=ST&directorySearchYear=&directorySearchOption1=&directorySearchOption2=&directorySearchOption3=&downloadTarget=project&startRow=&endRow=&rqstPurpCd=&infoPrctuseDes=&layerChoice=&sort=RANK%2FDESC&pageSize=10&navigation1%5B0%5D=2019&navigation1%5B1%5D=2018&navigation1%5B2%5D=2017&navigation1%5B3%5D=2016&navigation1%5B4%5D=2015\"\n",
        "web_contentlist=[]\n",
        "for i in range(int(start_page),int(last_page)+1): \n",
        "  url = front_url+str(i)+back_url\n",
        "  r = requests.get(url).content\n",
        "  web_contentlist.append(BeautifulSoup(r, \"html.parser\"))\n",
        "print(\"stage3 processing\")\n",
        "#mdata클래스 안에 있는 데이터만 다시 정리\n",
        "data_list = []\n",
        "for i in range(0, int(last_page)):\n",
        "  c = web_contentlist[i].find_all(class_='mdata')\n",
        "  for x in c:\n",
        "    p = x.text.replace(\"\\n\",\"\").split(\"/\")\n",
        "    data_list.append(p)\n",
        "print(\"stage4 processing\")\n",
        "#데이터 프레임 생성해서 dictionary looping 한 후 데이터로 저장 \n",
        "output = pd.DataFrame()\n",
        "dicts=dict.fromkeys(['ID','Year', 'class','PM', 'operated_by','executor','amount'])\n",
        "for i in range(len(data_list)):\n",
        "  dicts[\"ID\"] = data_list[i][0]\n",
        "  dicts[\"Year\"] = data_list[i][1]\n",
        "  dicts[\"class\"] = data_list[i][2]\n",
        "  dicts[\"PM\"] = data_list[i][3]\n",
        "  dicts[\"operated_by\"] = data_list[i][4]\n",
        "  dicts[\"executor\"] = data_list[i][5]\n",
        "  dicts[\"amount\"] = data_list[i][6]\n",
        "  output=output.append(dicts, ignore_index=True)\n",
        "print(\"ended\")"
      ],
      "execution_count": 1,
      "outputs": [
        {
          "output_type": "stream",
          "text": [
            "stage1 processing\n",
            "stage2 processing\n",
            "stage3 processing\n",
            "stage4 processing\n",
            "ended\n"
          ],
          "name": "stdout"
        }
      ]
    }
  ]
}